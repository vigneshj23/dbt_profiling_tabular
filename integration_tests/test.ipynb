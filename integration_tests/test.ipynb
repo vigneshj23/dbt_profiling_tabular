{
 "cells": [
  {
   "cell_type": "code",
   "execution_count": 1,
   "metadata": {},
   "outputs": [],
   "source": [
    "import re"
   ]
  },
  {
   "cell_type": "code",
   "execution_count": 2,
   "metadata": {},
   "outputs": [],
   "source": [
    "# Read the sample.profiles.yml file\n",
    "f = open('ci/sample.profiles.yml', 'r', encoding='utf-8')\n",
    "data = f.read()\n",
    "f.close()"
   ]
  },
  {
   "cell_type": "code",
   "execution_count": 3,
   "metadata": {},
   "outputs": [
    {
     "data": {
      "text/plain": [
       "'integration_tests:\\n  outputs:\\n    postgres:\\n        type: postgres\\n        host: localhost\\n        user: root\\n        password: test\\n        port: 5432\\n        database: profiling_test\\n        schema: integration_tests\\n        threads: 1\\n    snowflake:\\n        account: ${SNOWFLAKE_ACCOUNT}\\n        database: ${SNOWFLAKE_DATABASE}\\n        password: ${SNOWFLAKE_PASSWORD}\\n        role: ${SNOWFLAKE_ROLE}\\n        schema: ${SNOWFLAKE_SCHEMA}\\n        threads: 1\\n        type: snowflake\\n        user: ${SNOWFLAKE_USER}\\n        warehouse: ${SNOWFLAKE_WAREHOUSE}'"
      ]
     },
     "execution_count": 3,
     "metadata": {},
     "output_type": "execute_result"
    }
   ],
   "source": [
    "data"
   ]
  }
 ],
 "metadata": {
  "kernelspec": {
   "display_name": "Python 3",
   "language": "python",
   "name": "python3"
  },
  "language_info": {
   "codemirror_mode": {
    "name": "ipython",
    "version": 3
   },
   "file_extension": ".py",
   "mimetype": "text/x-python",
   "name": "python",
   "nbconvert_exporter": "python",
   "pygments_lexer": "ipython3",
   "version": "3.10.4"
  },
  "orig_nbformat": 4,
  "vscode": {
   "interpreter": {
    "hash": "821523032dd322d51e9fbf60af400d5a1321cb40767a358a7d8c3c87842877d7"
   }
  }
 },
 "nbformat": 4,
 "nbformat_minor": 2
}
